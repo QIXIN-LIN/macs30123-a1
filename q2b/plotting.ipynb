{
 "cells": [
  {
   "cell_type": "code",
   "execution_count": null,
   "metadata": {},
   "outputs": [],
   "source": [
    "import matplotlib.pyplot as plt\n",
    "import numpy as np\n",
    "\n",
    "# Ensure that matplotlib is installed in your local Python environment\n",
    "# If not, you can install it using pip:\n",
    "# pip install matplotlib\n",
    "\n",
    "# Load the data from the CSV file\n",
    "data = np.loadtxt('rho_vs_periods.csv', delimiter=',', skiprows=1)\n",
    "rho_values = data[:, 0]\n",
    "avg_periods = data[:, 1]\n",
    "\n",
    "# Create the plot\n",
    "plt.figure(figsize=(10, 6))\n",
    "plt.plot(rho_values, avg_periods, marker='o', linestyle='-', color='blue')\n",
    "plt.title('Average Number of Periods to First Negative Health Index vs. ρ')\n",
    "plt.xlabel('ρ Values')\n",
    "plt.ylabel('Average Number of Periods to First Negative Health Index')\n",
    "plt.grid(True)\n",
    "plt.savefig('average_periods_vs_rho.png')  # Save the plot as a PNG file\n",
    "plt.show()\n"
   ]
  }
 ],
 "metadata": {
  "language_info": {
   "name": "python"
  }
 },
 "nbformat": 4,
 "nbformat_minor": 2
}
