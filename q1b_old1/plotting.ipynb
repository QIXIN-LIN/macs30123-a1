{
 "cells": [
  {
   "cell_type": "code",
   "execution_count": null,
   "metadata": {},
   "outputs": [],
   "source": [
    "import matplotlib.pyplot as plt\n",
    "import os\n",
    "\n",
    "# Initialize lists for the number of cores and the corresponding computation times.\n",
    "num_cores = []\n",
    "computation_times = []\n",
    "\n",
    "# Iterate over the number of cores used, which corresponds to file names.\n",
    "for i in range(1, 21):\n",
    "    file_name = f'timing_data_{i}.out'\n",
    "    # Initialize a list to store times for each core in the current run.\n",
    "    core_times = []\n",
    "    \n",
    "    # Check if the file exists.\n",
    "    if os.path.isfile(file_name):\n",
    "        with open(file_name, 'r') as file:\n",
    "            lines = file.readlines()\n",
    "            for line in lines:\n",
    "                # Extract the time from each line and convert it to a float.\n",
    "                time_taken = float(line.split()[-2])\n",
    "                core_times.append(time_taken)\n",
    "                \n",
    "    # Calculate the average time for the current number of cores.\n",
    "    if core_times:\n",
    "        avg_time = sum(core_times) / len(core_times)\n",
    "        num_cores.append(i)\n",
    "        computation_times.append(avg_time)\n",
    "\n",
    "# Plot the results.\n",
    "plt.figure(figsize=(10, 5))\n",
    "plt.plot(num_cores, computation_times, 'o-', color='blue')\n",
    "plt.title('Computation Time vs Number of Cores')\n",
    "plt.xlabel('Number of Cores')\n",
    "plt.ylabel('Average Computation Time (seconds)')\n",
    "plt.xticks(range(1, 21))\n",
    "plt.grid(True)\n",
    "plt.savefig('computation_time_vs_cores.png')  # Save the figure as a PNG image.\n",
    "plt.show()\n"
   ]
  }
 ],
 "metadata": {
  "language_info": {
   "name": "python"
  }
 },
 "nbformat": 4,
 "nbformat_minor": 2
}
